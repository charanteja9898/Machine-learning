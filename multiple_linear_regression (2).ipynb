{
  "nbformat": 4,
  "nbformat_minor": 0,
  "metadata": {
    "colab": {
      "provenance": []
    },
    "kernelspec": {
      "name": "python3",
      "display_name": "Python 3"
    },
    "language_info": {
      "name": "python"
    }
  },
  "cells": [
    {
      "cell_type": "code",
      "execution_count": null,
      "metadata": {
        "colab": {
          "base_uri": "https://localhost:8080/"
        },
        "id": "KO2dgKa495mS",
        "outputId": "4eb9d186-c2d9-4521-fd22-9c20dc688deb"
      },
      "outputs": [
        {
          "output_type": "stream",
          "name": "stdout",
          "text": [
            "Single Linear Regression R-squared: 0.9265108109341951\n",
            "Multiple Linear Regression R-squared: 0.8987266414328637\n"
          ]
        }
      ],
      "source": [
        "import pandas as pd\n",
        "from sklearn.model_selection import train_test_split\n",
        "from sklearn.linear_model import LinearRegression\n",
        "from sklearn.metrics import r2_score\n",
        "data = pd.read_csv('50_Startups.csv')\n",
        "X = data[['R&D Spend', 'Administration', 'Marketing Spend', 'State']]\n",
        "y = data['Profit']\n",
        "X = pd.get_dummies(X, columns=['State'], drop_first=True)\n",
        "X_train, X_test, y_train, y_test = train_test_split(X, y, test_size=0.2, random_state=42)\n",
        "X_train_single = X_train[['R&D Spend']]\n",
        "X_test_single = X_test[['R&D Spend']]\n",
        "model_single = LinearRegression()\n",
        "model_single.fit(X_train_single, y_train)\n",
        "y_pred_single = model_single.predict(X_test_single)\n",
        "r2_single = r2_score(y_test, y_pred_single)\n",
        "print(f\"Single Linear Regression R-squared: {r2_single}\")\n",
        "model_multiple = LinearRegression()\n",
        "model_multiple.fit(X_train, y_train)\n",
        "y_pred_multiple = model_multiple.predict(X_test)\n",
        "r2_multiple = r2_score(y_test, y_pred_multiple)\n",
        "print(f\"Multiple Linear Regression R-squared: {r2_multiple}\")\n"
      ]
    },
    {
      "cell_type": "code",
      "source": [
        "import pandas as pd\n",
        "from sklearn.model_selection import train_test_split\n",
        "from sklearn.linear_model import LinearRegression\n",
        "from sklearn.metrics import r2_score, mean_squared_error\n",
        "import numpy as np\n",
        "data = pd.read_csv('ToyotaCorolla.csv')\n",
        "data = data[['Price', 'Age_08_04', 'KM', 'HP', 'cc', 'Doors', 'Gears', 'Quarterly_Tax', 'Weight']]\n",
        "X = data[['Age_08_04', 'KM', 'HP', 'cc', 'Doors', 'Gears', 'Quarterly_Tax', 'Weight']]\n",
        "y = data['Price']\n",
        "X_train, X_test, y_train, y_test = train_test_split(X, y, test_size=0.2, random_state=42)\n",
        "model = LinearRegression()\n",
        "model.fit(X_train, y_train)\n",
        "y_pred = model.predict(X_test)\n",
        "r2 = r2_score(y_test, y_pred)\n",
        "print(f\"R-squared: {r2}\")\n",
        "mse = mean_squared_error(y_test, y_pred)\n",
        "print(f\"Mean Squared Error: {mse}\")\n"
      ],
      "metadata": {
        "colab": {
          "base_uri": "https://localhost:8080/"
        },
        "id": "1RzvMuVx-OIK",
        "outputId": "23905350-eb89-4654-80c6-8408c6a6bc21"
      },
      "execution_count": null,
      "outputs": [
        {
          "output_type": "stream",
          "name": "stdout",
          "text": [
            "R-squared: 0.8538352805672252\n",
            "Mean Squared Error: 1950244.9877904265\n"
          ]
        }
      ]
    }
  ]
}