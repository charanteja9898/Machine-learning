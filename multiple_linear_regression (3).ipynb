{
  "nbformat": 4,
  "nbformat_minor": 0,
  "metadata": {
    "colab": {
      "provenance": []
    },
    "kernelspec": {
      "name": "python3",
      "display_name": "Python 3"
    },
    "language_info": {
      "name": "python"
    }
  },
  "cells": [
    {
      "cell_type": "code",
      "execution_count": 2,
      "metadata": {
        "colab": {
          "base_uri": "https://localhost:8080/"
        },
        "id": "KO2dgKa495mS",
        "outputId": "a0595dd3-84f3-41c3-d51b-39f3e7f3c247"
      },
      "outputs": [
        {
          "output_type": "stream",
          "name": "stdout",
          "text": [
            "Single linear regression : 0.9505152564299049\n",
            "Multiple linear regression: 0.9564177543265\n"
          ]
        }
      ],
      "source": [
        "import pandas as pd\n",
        "from sklearn.model_selection import train_test_split\n",
        "from sklearn.linear_model import LinearRegression\n",
        "from sklearn.metrics import r2_score\n",
        "data = pd.read_csv('50_Startups.csv')\n",
        "X = data[['R&D Spend', 'Administration', 'Marketing Spend', 'State']]\n",
        "y = data['Profit']\n",
        "X = pd.get_dummies(X, columns=['State'], drop_first=True)\n",
        "X_train, X_test, y_train, y_test = train_test_split(X, y, test_size=0.1, random_state=22)\n",
        "X_train_single = X_train[['R&D Spend']]\n",
        "X_test_single = X_test[['R&D Spend']]\n",
        "model_single = LinearRegression()\n",
        "model_single.fit(X_train_single, y_train)\n",
        "y_pred_single = model_single.predict(X_test_single)\n",
        "r2_single = r2_score(y_test, y_pred_single)\n",
        "print(f\"Single linear regression : {r2_single}\")\n",
        "model_multiple = LinearRegression()\n",
        "model_multiple.fit(X_train, y_train)\n",
        "y_pred_multiple = model_multiple.predict(X_test)\n",
        "r2_multiple = r2_score(y_test, y_pred_multiple)\n",
        "print(f\"Multiple linear regression: {r2_multiple}\")\n"
      ]
    },
    {
      "cell_type": "code",
      "source": [
        "import pandas as pd\n",
        "from sklearn.model_selection import train_test_split\n",
        "from sklearn.linear_model import LinearRegression\n",
        "from sklearn.metrics import r2_score, mean_squared_error\n",
        "import numpy as np\n",
        "data = pd.read_csv('ToyotaCorolla.csv')\n",
        "data = data[['Price', 'Age_08_04', 'KM', 'HP', 'cc', 'Doors', 'Gears', 'Quarterly_Tax', 'Weight']]\n",
        "X = data[['Age_08_04', 'KM', 'HP', 'cc', 'Doors', 'Gears', 'Quarterly_Tax', 'Weight']]\n",
        "y = data['Price']\n",
        "X_train, X_test, y_train, y_test = train_test_split(X, y, test_size=0.1, random_state=22)\n",
        "model = LinearRegression()\n",
        "model.fit(X_train, y_train)\n",
        "y_pred = model.predict(X_test)\n",
        "r2 = r2_score(y_test, y_pred)\n",
        "print(f\"R-squared: {r2}\")\n",
        "mse = mean_squared_error(y_test, y_pred)\n",
        "print(f\"Mean Squared Error: {mse}\")\n"
      ],
      "metadata": {
        "colab": {
          "base_uri": "https://localhost:8080/"
        },
        "id": "1RzvMuVx-OIK",
        "outputId": "cb751a5a-3eef-4a4c-fcdf-96af1f3cb0f5"
      },
      "execution_count": 4,
      "outputs": [
        {
          "output_type": "stream",
          "name": "stdout",
          "text": [
            "R-squared: 0.7929510463869064\n",
            "Mean Squared Error: 2978658.510083473\n"
          ]
        }
      ]
    }
  ]
}