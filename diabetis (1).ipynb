{
  "nbformat": 4,
  "nbformat_minor": 0,
  "metadata": {
    "colab": {
      "provenance": []
    },
    "kernelspec": {
      "name": "python3",
      "display_name": "Python 3"
    },
    "language_info": {
      "name": "python"
    }
  },
  "cells": [
    {
      "cell_type": "code",
      "source": [
        "import pandas as pd\n",
        "import numpy as np\n",
        "from sklearn.model_selection import train_test_split\n",
        "from sklearn.metrics import accuracy_score\n",
        "from sklearn.linear_model import LogisticRegression\n",
        "from sklearn.feature_selection import VarianceThreshold\n",
        "from sklearn.feature_selection import SequentialFeatureSelector\n",
        "from sklearn.linear_model import LogisticRegression\n",
        "from sklearn.feature_selection import RFE\n",
        "from sklearn.tree import DecisionTreeClassifier\n",
        "from sklearn.ensemble import RandomForestClassifier\n",
        "diabetes_df = pd.read_csv('diabetes.csv')\n",
        "print(diabetes_df.head())\n",
        "missing_thresh = 0.3 * len(diabetes_df)\n",
        "diabetes_reduced = diabetes_df.dropna(thresh=missing_thresh, axis=1)\n",
        "X_train, X_test, y_train, y_test = train_test_split(diabetes_reduced.drop('Outcome', axis=1),\n",
        "diabetes_reduced['Outcome'], test_size=0.3, random_state=42)\n",
        "model = LogisticRegression(max_iter=1000)\n",
        "model.fit(X_train, y_train)\n",
        "y_pred = model.predict(X_test)\n",
        "print(\"Accuracy:\", accuracy_score(y_test, y_pred))\n",
        "corr_matrix = diabetes_df.corr().abs()\n",
        "upper_tri = corr_matrix.where(np.triu(np.ones(corr_matrix.shape), k=1).astype(bool))\n",
        "to_drop = [column for column in upper_tri.columns if any(upper_tri[column] > 0.8)]\n",
        "diabetes_reduced_corr = diabetes_df.drop(columns=to_drop)\n",
        "X_train_corr, X_test_corr, y_train_corr, y_test_corr = train_test_split(diabetes_reduced_corr.drop('Outcome', axis=1),\n",
        "                                                                        diabetes_reduced_corr['Outcome'], test_size=0.3, random_state=42)\n",
        "model.fit(X_train_corr, y_train_corr)\n",
        "y_pred_corr = model.predict(X_test_corr)\n",
        "var_thresh = VarianceThreshold(threshold=0.01)\n",
        "diabetes_low_var = var_thresh.fit_transform(diabetes_df.drop('Outcome', axis=1))\n",
        "X_train_var, X_test_var, y_train_var, y_test_var = train_test_split(diabetes_low_var, diabetes_df['Outcome'], test_size=0.3, random_state=42)\n",
        "model.fit(X_train_var, y_train_var)\n",
        "y_pred_var = model.predict(X_test_var)\n",
        "X = diabetes_df.drop('Outcome', axis=1)\n",
        "y = diabetes_df['Outcome']\n",
        "sfs = SequentialFeatureSelector(LogisticRegression(), n_features_to_select=3)\n",
        "sfs.fit(X, y)\n",
        "X_train_fs = sfs.transform(X_train)\n",
        "X_test_fs = sfs.transform(X_test)\n",
        "model.fit(X_train_fs, y_train)\n",
        "y_pred_fs = model.predict(X_test_fs)\n",
        "tree_clf = DecisionTreeClassifier()\n",
        "rfe = RFE(tree_clf, n_features_to_select=5)\n",
        "rfe.fit(diabetes_df.drop('Outcome', axis=1), diabetes_df['Outcome'])\n",
        "print(\"Selected features:\", diabetes_df.drop('Outcome', axis=1).columns[rfe.get_support()])\n",
        "X_train_rfe = rfe.transform(X_train)\n",
        "X_test_rfe = rfe.transform(X_test)\n",
        "model.fit(X_train_rfe, y_train)\n",
        "y_pred_rfe = model.predict(X_test_rfe)\n",
        "rf = RandomForestClassifier(n_estimators=100)\n",
        "rf.fit(X_train, y_train)\n",
        "importances = rf.feature_importances_\n",
        "indices = np.argsort(importances)[-5:]\n",
        "top_features = diabetes_df.drop('Outcome', axis=1).columns[indices]\n",
        "print(\"Top 5 features:\", top_features)\n",
        "X_train_rf = X_train[top_features]\n",
        "X_test_rf = X_test[top_features]\n",
        "rf.fit(X_train_rf, y_train)\n",
        "y_pred_rf = rf.predict(X_test_rf)\n",
        "print(\"Accuracy:\", accuracy_score(y_test, y_pred))\n",
        "print(\"correlation filter:\", accuracy_score(y_test_corr, y_pred_corr))\n",
        "print(\"low variance filter:\", accuracy_score(y_test_var, y_pred_var))\n",
        "print(\"forward feature selection:\", accuracy_score(y_test, y_pred_fs))\n",
        "print(\"backward elimination:\", accuracy_score(y_test, y_pred_rfe))\n",
        "print(\"random features:\", accuracy_score(y_test, y_pred_rf))"
      ],
      "metadata": {
        "colab": {
          "base_uri": "https://localhost:8080/"
        },
        "id": "wknVvxdDKovO",
        "outputId": "fb2105ab-7644-417a-8610-9cd808f666a4"
      },
      "execution_count": 2,
      "outputs": [
        {
          "output_type": "stream",
          "name": "stdout",
          "text": [
            "   Pregnancies  Glucose  BloodPressure  SkinThickness  Insulin   BMI  \\\n",
            "0            6      148             72             35        0  33.6   \n",
            "1            1       85             66             29        0  26.6   \n",
            "2            8      183             64              0        0  23.3   \n",
            "3            1       89             66             23       94  28.1   \n",
            "4            0      137             40             35      168  43.1   \n",
            "\n",
            "   DiabetesPedigreeFunction  Age  Outcome  \n",
            "0                     0.627   50        1  \n",
            "1                     0.351   31        0  \n",
            "2                     0.672   32        1  \n",
            "3                     0.167   21        0  \n",
            "4                     2.288   33        1  \n",
            "Accuracy: 0.7359307359307359\n",
            "Selected features: Index(['Glucose', 'BloodPressure', 'BMI', 'DiabetesPedigreeFunction', 'Age'], dtype='object')\n",
            "Top 5 features: Index(['BloodPressure', 'DiabetesPedigreeFunction', 'Age', 'BMI', 'Glucose'], dtype='object')\n",
            "Accuracy: 0.7359307359307359\n",
            "correlation filter: 0.7359307359307359\n",
            "low variance filter: 0.7359307359307359\n",
            "forward feature selection: 0.7272727272727273\n",
            "backward elimination: 0.7272727272727273\n",
            "random features: 0.7662337662337663\n"
          ]
        }
      ]
    }
  ]
}