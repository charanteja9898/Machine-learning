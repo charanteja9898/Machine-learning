{
  "nbformat": 4,
  "nbformat_minor": 0,
  "metadata": {
    "colab": {
      "provenance": []
    },
    "kernelspec": {
      "name": "python3",
      "display_name": "Python 3"
    },
    "language_info": {
      "name": "python"
    }
  },
  "cells": [
    {
      "cell_type": "markdown",
      "source": [
        "# 1"
      ],
      "metadata": {
        "id": "j7a8ZjTyBvdH"
      }
    },
    {
      "cell_type": "code",
      "execution_count": null,
      "metadata": {
        "colab": {
          "base_uri": "https://localhost:8080/"
        },
        "id": "9ipY3PBqBDIa",
        "outputId": "f6171330-5934-4851-89cd-5645218f468b"
      },
      "outputs": [
        {
          "output_type": "stream",
          "name": "stdout",
          "text": [
            "Mean of the sample array: 3.0\n",
            "Variance of the sample array: 2.0\n"
          ]
        }
      ],
      "source": [
        "import numpy as np\n",
        "\n",
        "sample_array = np.array([1, 2, 3, 4, 5])\n",
        "\n",
        "mean_value = np.mean(sample_array)\n",
        "\n",
        "variance_value = np.var(sample_array)\n",
        "\n",
        "print(\"Mean of the sample array:\", mean_value)\n",
        "print(\"Variance of the sample array:\", variance_value)\n"
      ]
    },
    {
      "cell_type": "markdown",
      "source": [
        "->  The mean gives an indication of the average value in the sample.\n",
        "->  The variance quantifies how much the values in the sample deviate from the mean."
      ],
      "metadata": {
        "id": "lapK5rG5EE77"
      }
    },
    {
      "cell_type": "markdown",
      "source": [
        "# 2"
      ],
      "metadata": {
        "id": "x1ZS9OLyByjv"
      }
    },
    {
      "cell_type": "code",
      "source": [
        "import numpy as np\n",
        "\n",
        "vector1 = np.array([2, 4, 6, 8, 10])\n",
        "vector2 = np.array([1, 3, 5, 7, 9])\n",
        "\n",
        "if vector1.shape[0] != vector2.shape[0]:\n",
        "    raise ValueError(\"Vectors must be of the same length\")\n",
        "\n",
        "mean_vector1 = np.mean(vector1)\n",
        "mean_vector2 = np.mean(vector2)\n",
        "\n",
        "covariance = np.mean((vector1 - mean_vector1) * (vector2 - mean_vector2))\n",
        "\n",
        "print(\"Covariance between the two vectors:\", covariance)\n"
      ],
      "metadata": {
        "colab": {
          "base_uri": "https://localhost:8080/"
        },
        "id": "79vEiIm1B0BB",
        "outputId": "f207b3b8-e903-42a7-e309-7ab27b820274"
      },
      "execution_count": null,
      "outputs": [
        {
          "output_type": "stream",
          "name": "stdout",
          "text": [
            "Covariance between the two vectors: 8.0\n"
          ]
        }
      ]
    },
    {
      "cell_type": "markdown",
      "source": [
        "->  Covariance quantifies the degree to which two variables change together. If the covariance is positive, it indicates that as one variable increases, the other tends to also increase. Conversely, if the covariance is negative, it means that as one variable increases, the other tends to decrease."
      ],
      "metadata": {
        "id": "sz3eS75lD5fb"
      }
    },
    {
      "cell_type": "markdown",
      "source": [
        "# 3"
      ],
      "metadata": {
        "id": "tCx8FO-ECPvN"
      }
    },
    {
      "cell_type": "code",
      "source": [
        "import numpy as np\n",
        "\n",
        "vector1 = np.array([2, 4, 6, 8, 10])\n",
        "vector2 = np.array([1, 3, 5, 7, 9])\n",
        "\n",
        "if vector1.shape[0] != vector2.shape[0]:\n",
        "    raise ValueError(\"Vectors must be of the same length\")\n",
        "\n",
        "mean_vector1 = np.mean(vector1)\n",
        "mean_vector2 = np.mean(vector2)\n",
        "\n",
        "covariance = np.mean((vector1 - mean_vector1) * (vector2 - mean_vector2))\n",
        "\n",
        "std_dev_vector1 = np.std(vector1)\n",
        "std_dev_vector2 = np.std(vector2)\n",
        "\n",
        "correlation = covariance / (std_dev_vector1 * std_dev_vector2)\n",
        "\n",
        "print(\"Correlation between the two vectors:\", correlation)\n"
      ],
      "metadata": {
        "colab": {
          "base_uri": "https://localhost:8080/"
        },
        "id": "qWSOLKmeCTpi",
        "outputId": "28bbf562-f724-486d-eeb9-55cf2857be67"
      },
      "execution_count": null,
      "outputs": [
        {
          "output_type": "stream",
          "name": "stdout",
          "text": [
            "Correlation between the two vectors: 0.9999999999999998\n"
          ]
        }
      ]
    },
    {
      "cell_type": "markdown",
      "source": [
        "->  Correlation quantifies the strength and direction of a linear relationship between two variables. It provides a normalized measure of how one variable moves in relation to another.\n",
        "\n"
      ],
      "metadata": {
        "id": "LByMLE4JDtID"
      }
    },
    {
      "cell_type": "markdown",
      "source": [
        "# 4"
      ],
      "metadata": {
        "id": "SYSGJojXCrxh"
      }
    },
    {
      "cell_type": "code",
      "source": [
        "import numpy as np\n",
        "\n",
        "data_matrix = np.array([\n",
        "    [2, 4, 6, 8],\n",
        "    [1, 3, 5, 7],\n",
        "    [5, 6, 2, 1]\n",
        "])\n",
        "\n",
        "covariance_matrix = np.cov(data_matrix, bias=False, rowvar=True)\n",
        "\n",
        "correlation_matrix = np.corrcoef(data_matrix, rowvar=True)\n",
        "\n",
        "print(\"Covariance Matrix:\\n\", covariance_matrix)\n",
        "print(\"\\nCorrelation Matrix:\\n\", correlation_matrix)\n"
      ],
      "metadata": {
        "colab": {
          "base_uri": "https://localhost:8080/"
        },
        "id": "GUxcI4FcCtLi",
        "outputId": "e8b5fcff-3425-4259-8b9c-27e14b38c89d"
      },
      "execution_count": null,
      "outputs": [
        {
          "output_type": "stream",
          "name": "stdout",
          "text": [
            "Covariance Matrix:\n",
            " [[ 6.66666667  6.66666667 -5.33333333]\n",
            " [ 6.66666667  6.66666667 -5.33333333]\n",
            " [-5.33333333 -5.33333333  5.66666667]]\n",
            "\n",
            "Correlation Matrix:\n",
            " [[ 1.          1.         -0.86772183]\n",
            " [ 1.          1.         -0.86772183]\n",
            " [-0.86772183 -0.86772183  1.        ]]\n"
          ]
        }
      ]
    },
    {
      "cell_type": "markdown",
      "source": [
        "->  Covariance Matrix: Provides insights into how features co-vary with each other.\n",
        "It is useful to understand the direction and strength of the linear relationship between features but does not account for the scale of the features.\n",
        "\n",
        "->  Correlation Matrix: Offers a normalized view of the relationships between features, making it easier to interpret the strength and direction of linear relationships without the influence of feature scales. This matrix is especially useful for identifying patterns and relationships between features in a standardized way."
      ],
      "metadata": {
        "id": "GLlYR4kMDNm6"
      }
    }
  ]
}